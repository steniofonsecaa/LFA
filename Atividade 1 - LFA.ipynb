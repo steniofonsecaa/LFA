{
  "metadata": {
    "kernelspec": {
      "name": "python",
      "display_name": "Python (Pyodide)",
      "language": "python"
    },
    "language_info": {
      "codemirror_mode": {
        "name": "python",
        "version": 3
      },
      "file_extension": ".py",
      "mimetype": "text/x-python",
      "name": "python",
      "nbconvert_exporter": "python",
      "pygments_lexer": "ipython3",
      "version": "3.8"
    }
  },
  "nbformat_minor": 5,
  "nbformat": 4,
  "cells": [
    {
      "id": "40463206-50dd-47a4-a97a-b32a89923981",
      "cell_type": "markdown",
      "source": "## Aqui serão apresentadas algumas formas de implementar cada exercício, lembrando que pode ter outras maneiras.",
      "metadata": {}
    },
    {
      "id": "589c51e1-0b00-47ca-889f-aea614708caa",
      "cell_type": "markdown",
      "source": "## 1. Listagem de Elementos de um Conjunto V = {a, e, i, o, u} e impressão de seus elementos",
      "metadata": {}
    },
    {
      "id": "bb46da8e-3d52-409b-ae76-6cd969a24a18",
      "cell_type": "code",
      "source": "V = {'a', 'e', 'i', 'o', 'u'}\nfor v in V:\n    print(v)",
      "metadata": {
        "trusted": true
      },
      "outputs": [
        {
          "name": "stdout",
          "output_type": "stream",
          "text": "a\ne\nu\ni\no\n"
        }
      ],
      "execution_count": 4
    },
    {
      "id": "4211a6ba-4643-4a97-9af1-10ff7246c889",
      "cell_type": "markdown",
      "source": "## 2. Verificar se 'a' está em V = {a, e, i, o, u}",
      "metadata": {}
    },
    {
      "id": "8a882868-3cba-45dc-b2a5-cdcd531c0270",
      "cell_type": "code",
      "source": "V = {'a', 'e', 'i', 'o', 'u'}\nif 'a' in V:\n    print(\"'a' está em V\")\nelse:\n    print(\"'a' não está em V\")",
      "metadata": {
        "trusted": true
      },
      "outputs": [
        {
          "name": "stdout",
          "output_type": "stream",
          "text": "'a' está em V\n"
        }
      ],
      "execution_count": 5
    },
    {
      "id": "5d133c64-6fcd-4a25-b9bf-6d917378a5b4",
      "cell_type": "markdown",
      "source": "## 3. Criação de um conjunto B que contém todos os números inteiros pares maiores que 10 e menores que 20",
      "metadata": {}
    },
    {
      "id": "7cef4cb9-4d6c-4535-a37a-ff2254a9497a",
      "cell_type": "code",
      "source": "B = []\nfor i in range(11,20):\n    if i % 2 == 0:\n        B.append(i)\nprint(\"B = \", B)",
      "metadata": {
        "trusted": true
      },
      "outputs": [
        {
          "name": "stdout",
          "output_type": "stream",
          "text": "B =  [12, 14, 16, 18]\n"
        }
      ],
      "execution_count": 11
    },
    {
      "id": "2fa5906a-e8f7-4fa6-9b72-5b8a5aa1a8fa",
      "cell_type": "markdown",
      "source": "## 4. Se  ( V = {a, e, i, o, u} ) e ( C = {i, o, u} ),  verificar se todos os elementos de ( C ) também estão em ( V )",
      "metadata": {}
    },
    {
      "id": "cdb8b11e-5291-46c5-ab31-3af043a39721",
      "cell_type": "code",
      "source": "V = {'a', 'e', 'i', 'o', 'u'}\nC = {'i', 'o', 'u'}\nprint(C.issubset(V))",
      "metadata": {
        "trusted": true
      },
      "outputs": [
        {
          "name": "stdout",
          "output_type": "stream",
          "text": "True\n"
        }
      ],
      "execution_count": 14
    },
    {
      "id": "789285ce-e42b-499c-b914-2cbc0cdee6d9",
      "cell_type": "markdown",
      "source": "## 5. Representar um conjunto (D) que contenha os números inteiros de 1 a 10 que são divisíveis por 3",
      "metadata": {}
    },
    {
      "id": "cfe87e24-8f15-456d-8c2e-493bd8cd1a69",
      "cell_type": "code",
      "source": "D = []\nfor i in range(1,11):\n    if i % 3 == 0:\n        D.append(i)\nprint(\"D = \", D)",
      "metadata": {
        "trusted": true
      },
      "outputs": [
        {
          "name": "stdout",
          "output_type": "stream",
          "text": "D =  [3, 6, 9]\n"
        }
      ],
      "execution_count": 16
    },
    {
      "id": "6ea09695-4dd0-4eab-8480-ef3e9be439a7",
      "cell_type": "markdown",
      "source": "## 6. União dos conjuntos ( A = {1, 2, 3} ) e ( B = {3, 4, 5} )",
      "metadata": {}
    },
    {
      "id": "f7995b46-3a37-4456-8154-e9d415e9aa66",
      "cell_type": "code",
      "source": "A = {1, 2, 3}\nB = {3, 4, 5}\nU = A | B\nprint(U)",
      "metadata": {
        "trusted": true
      },
      "outputs": [
        {
          "name": "stdout",
          "output_type": "stream",
          "text": "{1, 2, 3, 4, 5}\n"
        }
      ],
      "execution_count": 18
    },
    {
      "id": "f0b0ccb0-5c90-44c1-b6a6-51520ea83bfd",
      "cell_type": "markdown",
      "source": "## 7. Interseção dos conjuntos ( A = {1, 2, 3} ) e ( B = {3, 4, 5} )",
      "metadata": {}
    },
    {
      "id": "9289fa22-5926-40e3-9992-857995184c53",
      "cell_type": "code",
      "source": "A = {1, 2, 3}\nB = {3, 4, 5}\nI = A & B\nprint(I)",
      "metadata": {
        "trusted": true
      },
      "outputs": [
        {
          "name": "stdout",
          "output_type": "stream",
          "text": "{3}\n"
        }
      ],
      "execution_count": 19
    },
    {
      "id": "496c91ed-4b1f-4fe0-a422-432acd399ef5",
      "cell_type": "markdown",
      "source": "## 8. Elementos que estão em ( A = {1, 2, 3} ) mas não estão em ( B = {3, 4, 5} )",
      "metadata": {}
    },
    {
      "id": "7a19c007-c57d-4528-b4e7-b3ac0b08f1a7",
      "cell_type": "code",
      "source": "A = {1, 2, 3}\nB = {3, 4, 5}\n\nE = A - B\nprint(E)",
      "metadata": {
        "trusted": true
      },
      "outputs": [
        {
          "name": "stdout",
          "output_type": "stream",
          "text": "{1, 2}\n"
        }
      ],
      "execution_count": 20
    },
    {
      "id": "afdc74e0-350c-4feb-8d7f-6fabaf18511d",
      "cell_type": "markdown",
      "source": "## 9. Diferença simétrica entre ( A = {1, 2, 3} ) e ( B = {3, 4, 5} )",
      "metadata": {}
    },
    {
      "id": "87b68c64-81eb-4f54-9792-dc2ba05c02b8",
      "cell_type": "code",
      "source": "A = {1, 2, 3}\nB = {3, 4, 5}\n\n#Verifica a difereça simétrica\nD = A ^ B\nprint(D)",
      "metadata": {
        "trusted": true
      },
      "outputs": [
        {
          "name": "stdout",
          "output_type": "stream",
          "text": "{1, 2, 4, 5}\n"
        }
      ],
      "execution_count": 22
    },
    {
      "id": "9e6741a4-4a3b-4e08-a86b-425c8cf8fe70",
      "cell_type": "markdown",
      "source": "## 10. Verificar se ( A = {1, 2, 3} ) é um subconjunto de ( B = {1, 2, 3, 4, 5} ) e se ( B ) é um superconjunto de ( A )",
      "metadata": {}
    },
    {
      "id": "c2cbc3a1-4fee-4081-b5ae-169c88bb12fe",
      "cell_type": "code",
      "source": "A = {1, 2, 3}\nB = {1, 2, 3, 4, 5}\n\n#Verifica se A é subconjunto de B\nSB = A <= B\nprint(SB)\n\n#Verifica se B é superconjunto de A\nSP = B >= A\nprint(SP)",
      "metadata": {
        "trusted": true
      },
      "outputs": [
        {
          "name": "stdout",
          "output_type": "stream",
          "text": "True\nTrue\n"
        }
      ],
      "execution_count": 27
    },
    {
      "id": "ac73855e-d859-433d-932a-a3191a591426",
      "cell_type": "markdown",
      "source": "## 11. Números pares maiores que 10",
      "metadata": {}
    },
    {
      "id": "03afee9d-b094-40c8-8719-983774a454cc",
      "cell_type": "code",
      "source": "#Primeiros 10 números pares maiores que 10\nNP = []\nn = 11\n\nwhile len(NP) < 10:\n    if n % 2 == 0:\n        NP.append(n)\n    n += 1\n\nprint(NP)",
      "metadata": {
        "trusted": true
      },
      "outputs": [
        {
          "name": "stdout",
          "output_type": "stream",
          "text": "[12, 14, 16, 18, 20, 22, 24, 26, 28, 30]\n"
        }
      ],
      "execution_count": 7
    },
    {
      "id": "8ccbe636-16fc-4586-a5d8-68a0edcf0c69",
      "cell_type": "markdown",
      "source": "## 12. Números primos menores que 20",
      "metadata": {}
    },
    {
      "id": "f508e587-0a3a-41b8-86d6-866c0b36bd64",
      "cell_type": "code",
      "source": "P = []\n\nfor i in range(2, 20):\n    eh_primo = True\n    for j in range(2, int(i**0.5) + 1):\n        if i % j == 0:\n            eh_primo = False\n            break\n    if eh_primo:\n        P.append(i)\n\nprint(P)",
      "metadata": {
        "trusted": true
      },
      "outputs": [
        {
          "name": "stdout",
          "output_type": "stream",
          "text": "[2, 3, 5, 7, 11, 13, 17, 19]\n"
        }
      ],
      "execution_count": 9
    },
    {
      "id": "a5daf9af-a8ed-4ad1-843e-7b52c46ed595",
      "cell_type": "markdown",
      "source": "## 13. Números ímpares divisíveis por 3 até 30",
      "metadata": {}
    },
    {
      "id": "2a1f0048-7e4f-4c23-9763-58d6f4a1c5f2",
      "cell_type": "code",
      "source": "DIV = []\n\nfor i in range(1, 31):\n    if i % 2 != 0 and i % 3 == 0:\n        DIV.append(i)\n\nprint(DIV)",
      "metadata": {
        "trusted": true
      },
      "outputs": [
        {
          "name": "stdout",
          "output_type": "stream",
          "text": "[3, 9, 15, 21, 27]\n"
        }
      ],
      "execution_count": 10
    },
    {
      "id": "2bdff77a-6432-4bff-8071-847a86cefb30",
      "cell_type": "markdown",
      "source": "## 14. Quadrados perfeitos menores que 100",
      "metadata": {}
    },
    {
      "id": "f08208a6-966c-4ab5-b18e-b1247ff14266",
      "cell_type": "code",
      "source": "PERF = []\n\nfor i in range(1, 100):\n    if i * i < 100:\n        PERF.append(i * i)\n    else:\n        break\n\nprint(PERF)",
      "metadata": {
        "trusted": true
      },
      "outputs": [
        {
          "name": "stdout",
          "output_type": "stream",
          "text": "[1, 4, 9, 16, 25, 36, 49, 64, 81]\n"
        }
      ],
      "execution_count": 12
    },
    {
      "id": "69b95122-73b5-4d52-90dd-a4ef3fe5e45f",
      "cell_type": "markdown",
      "source": "## 15. Múltiplos de 5 entre 10 e 50",
      "metadata": {}
    },
    {
      "id": "1c288740-50cf-4484-8268-8985a7fb3dab",
      "cell_type": "code",
      "source": "M5 = []\n\nfor i in range(10, 51):\n    if i % 5 == 0:\n        M5.append(i)\n\nprint(M5)",
      "metadata": {
        "trusted": true
      },
      "outputs": [
        {
          "name": "stdout",
          "output_type": "stream",
          "text": "[10, 15, 20, 25, 30, 35, 40, 45, 50]\n"
        }
      ],
      "execution_count": 13
    }
  ]
}