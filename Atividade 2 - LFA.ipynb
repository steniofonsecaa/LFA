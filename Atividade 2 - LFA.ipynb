{
  "metadata": {
    "kernelspec": {
      "name": "python",
      "display_name": "Python (Pyodide)",
      "language": "python"
    },
    "language_info": {
      "codemirror_mode": {
        "name": "python",
        "version": 3
      },
      "file_extension": ".py",
      "mimetype": "text/x-python",
      "name": "python",
      "nbconvert_exporter": "python",
      "pygments_lexer": "ipython3",
      "version": "3.8"
    }
  },
  "nbformat_minor": 5,
  "nbformat": 4,
  "cells": [
    {
      "id": "979ee3d5-95f3-43d0-8044-ed4209369062",
      "cell_type": "markdown",
      "source": "## Questão 1",
      "metadata": {}
    },
    {
      "id": "a146f320-8f39-40e2-a0f9-1445d48343f2",
      "cell_type": "markdown",
      "source": "Seja $\\Sigma = \\{a, b\\}$ um alfabeto. Escreva um programa em Python para gerar o conjunto $\\Sigma^n$, ou seja, que contém todas as possíveis cadeias de caracteres formadas pelos elementos de $\\Sigma$ de comprimento $n$.\n",
      "metadata": {}
    },
    {
      "id": "bf837d7b-1c46-4947-bf0f-8bdee4d8e6db",
      "cell_type": "code",
      "source": "#Alfabeto\nsigma = ['a', 'b']\n\n#Função para gerar de forma recursiva Sigma^n\ndef gerar_sigma_n(alfabeto, n):\n    if n == 0:\n        return ['']\n\n    outras_cadeias = gerar_sigma_n(alfabeto, n-1)\n    resultado = []\n\n    for cadeia in outras_cadeias:\n        for letra in alfabeto:\n            nova_cadeia = cadeia + letra\n            resultado.append(nova_cadeia)\n    return resultado\n\n# Exemplo\nn = 3\nresultado = gerar_sigma_n(sigma, n)\nprint(f\"Sigma^{n} =\")\nprint(resultado)",
      "metadata": {
        "trusted": true
      },
      "outputs": [
        {
          "name": "stdout",
          "output_type": "stream",
          "text": "Sigma^3 =\n['aaa', 'aab', 'aba', 'abb', 'baa', 'bab', 'bba', 'bbb']\n"
        }
      ],
      "execution_count": 4
    },
    {
      "id": "9502276d-be54-4d29-8010-e5ca1c6447ab",
      "cell_type": "markdown",
      "source": "## Questão 2",
      "metadata": {}
    },
    {
      "id": "9369ead9-b1ac-4c5a-832e-5ebb8b7a3547",
      "cell_type": "markdown",
      "source": "Seja $\\Sigma = \\{a, b\\}$ um alfabeto. Escreva um programa em Python para gerar o conjunto $\\Sigma^*$ até $\\Sigma^3$, que contém todas as possíveis cadeias de caracteres formadas pelos elementos de $\\Sigma$ até o comprimento 3.",
      "metadata": {}
    },
    {
      "id": "f60a345b-338e-4df8-8246-7ff5f667902b",
      "cell_type": "code",
      "source": "#Alfabeto\nsigma = ['a', 'b']\n\n#Função para gerar Sigma^n de forma recursiva\ndef gerar_sigma_n(alfabeto, n):\n    if n == 0:\n        return ['']\n    cadeias_menores = gerar_sigma_n(alfabeto, n - 1)\n    resultado = []\n\n    for cadeia in cadeias_menores:\n        for letra in alfabeto:\n            nova_cadeia = cadeia + letra\n            resultado.append(nova_cadeia)\n    \n    return resultado\n\n#Função para gerar Sigma* até Sigma^3\ndef gerar_sigma_ate_3(alfabeto):\n    resultado = []\n    for i in range(0, 4):  # de 0 até 3\n        cadeias = gerar_sigma_n(alfabeto, i)\n        resultado.extend(cadeias)\n    return resultado\n\n#Exemplo\nresultado = gerar_sigma_ate_3(sigma)\nprint(\"Sigma* até Sigma^3:\")\nprint(resultado)",
      "metadata": {
        "trusted": true
      },
      "outputs": [
        {
          "name": "stdout",
          "output_type": "stream",
          "text": "Sigma* até Sigma^3:\n['', 'a', 'b', 'aa', 'ab', 'ba', 'bb', 'aaa', 'aab', 'aba', 'abb', 'baa', 'bab', 'bba', 'bbb']\n"
        }
      ],
      "execution_count": 5
    },
    {
      "id": "5977dd99-92c7-4aa4-8187-195777bf2edc",
      "cell_type": "markdown",
      "source": "## Questão 3",
      "metadata": {}
    },
    {
      "id": "d5aaecc1-fb8b-44d6-a5aa-9e06aac09918",
      "cell_type": "markdown",
      "source": "Considere os conjuntos de strings $ L = \\{\"001\", \"10\", \"111\"\\} $ e $ M = \\{\\epsilon, \"001\"\\} $, onde $\\epsilon$ representa a string vazia. Escreva um programa em Python que calcule a concatenação de $ L $ e $ M $, representada por $ LM $. $ LM $ é o conjunto de todas as strings formadas pela concatenação de cada elemento em $ L $ com cada elemento em $ M $.\n",
      "metadata": {}
    },
    {
      "id": "ae4d8875-3864-4e1b-b8ca-a4eaa908dc50",
      "cell_type": "code",
      "source": "#Conjuntos L e M\nL = [\"001\", \"10\", \"111\"]\nM = [\"\", \"001\"]  #\"\" representa ε (ou seja, a string vazia)\n\n#Função para concatenar um conjunto de strings\ndef concatenar_conjuntos(conj1, conj2):\n    resultado = []\n\n    for l in conj1:\n        for m in conj2:\n            concatenado = l + m\n            resultado.append(concatenado)\n\n    return resultado\n\n#Executa a concatenação\nLM = concatenar_conjuntos(L, M)\n\n#Resultado\nprint(\"Concatenação LM:\")\nprint(LM)",
      "metadata": {
        "trusted": true
      },
      "outputs": [
        {
          "name": "stdout",
          "output_type": "stream",
          "text": "Concatenação LM:\n['001', '001001', '10', '10001', '111', '111001']\n"
        }
      ],
      "execution_count": 6
    },
    {
      "id": "9fc91533-4596-4490-b827-e4dbdee3ae7e",
      "cell_type": "markdown",
      "source": "## Questão 4",
      "metadata": {}
    },
    {
      "id": "73c50984-b588-4490-ab01-31ff568f6ad5",
      "cell_type": "markdown",
      "source": "Seja $ L $ o conjunto de todas as cadeias formadas apenas pelo símbolo `0`. Calcule $ L^* $, o fechamento reflexivo e transitivo de $ L $, que representa todas as cadeias que podem ser formadas concatenando zero ou mais vezes as cadeias em $ L $.",
      "metadata": {}
    },
    {
      "id": "ca247b6b-989b-4f41-a64e-d2807184c477",
      "cell_type": "code",
      "source": "#Definindo a linguagem L\nL = {'aba', 'bab'}\n\n#Função para calcular o fechamento reflexivo e transitivo de L (L*)\ndef fechamento_reflexivo_transitivo(linguagem, max_length=10):\n    fechamento = {''}  #Começamos com a cadeia vazia (L^0)\n    print(\"Início: L^0 = {''}\")\n    \n    atual = {''}  #Começa com L^0\n    for i in range(1, max_length + 1):\n        novos_elementos = set()\n        \n        for w in atual:\n            for l in linguagem:\n                nova_cadeia = w + l\n                if len(nova_cadeia) <= max_length:\n                    novos_elementos.add(nova_cadeia)\n        \n        #Remover os que já estão no fechamento\n        novos_elementos -= fechamento\n\n        if not novos_elementos:\n            print(f\"Nenhum novo elemento adicionado para L^{i}\")\n            break\n\n        fechamento.update(novos_elementos)\n        atual = novos_elementos\n        print(f\"L^{i} = {sorted(novos_elementos)}\")\n\n    return fechamento\n\n#Execução\nL_estrela = fechamento_reflexivo_transitivo(L, max_length=9)\nprint(\"\\nL* =\", sorted(L_estrela)) ",
      "metadata": {
        "trusted": true
      },
      "outputs": [
        {
          "name": "stdout",
          "output_type": "stream",
          "text": "Início: L^0 = {''}\nL^1 = ['aba', 'bab']\nL^2 = ['abaaba', 'ababab', 'bababa', 'babbab']\nL^3 = ['abaabaaba', 'abaababab', 'ababababa', 'abababbab', 'bababaaba', 'babababab', 'babbababa', 'babbabbab']\nNenhum novo elemento adicionado para L^4\n\n ['', 'aba', 'abaaba', 'abaabaaba', 'abaababab', 'ababab', 'ababababa', 'abababbab', 'bab', 'bababa', 'bababaaba', 'babababab', 'babbab', 'babbababa', 'babbabbab']\n"
        }
      ],
      "execution_count": 5
    },
    {
      "id": "f4dec5bd-dd69-430a-825b-7fe86b92b3d8",
      "cell_type": "markdown",
      "source": "## Questão 5",
      "metadata": {}
    },
    {
      "id": "0e308690-7ab9-461b-9f4a-699d3ebde48f",
      "cell_type": "markdown",
      "source": "Explore o conceito de fechamento transitivo no alfabeto $\\Sigma = \\{n, (, ), +, *, -, /\\}$.",
      "metadata": {}
    },
    {
      "id": "42b3345b-2030-44e9-a207-e59b58294a7c",
      "cell_type": "code",
      "source": "import itertools\n\n#Alfabeto Σ\nalfabeto = ['n', '(', ')', '+', '*', '-', '/']\n\n#Função para gerar Σ⁺ até um certo comprimento\ndef fechamento_transitivo(alfabeto, comprimento_max=3):\n    resultado = []\n\n    #Começamos do tamanho 1 (não inclui cadeia vazia)\n    for tamanho in range(1, comprimento_max + 1):\n        combinacoes = itertools.product(alfabeto, repeat=tamanho)\n        for c in combinacoes:\n            cadeia = ''.join(c)\n            resultado.append(cadeia)\n\n    return resultado\n\n#Gerar Σ⁺ com cadeias de até comprimento 3\nsigma_mais = fechamento_transitivo(alfabeto, comprimento_max=3)\n\n#Resultado\nprint(\"Σ⁺ (até tamanho 3):\")\nfor cadeia in sigma_mais:\n    print(cadeia)",
      "metadata": {
        "trusted": true
      },
      "outputs": [
        {
          "name": "stdout",
          "output_type": "stream",
          "text": "Σ⁺ (até tamanho 3):\nn\n(\n)\n+\n*\n-\n/\nnn\nn(\nn)\nn+\nn*\nn-\nn/\n(n\n((\n()\n(+\n(*\n(-\n(/\n)n\n)(\n))\n)+\n)*\n)-\n)/\n+n\n+(\n+)\n++\n+*\n+-\n+/\n*n\n*(\n*)\n*+\n**\n*-\n*/\n-n\n-(\n-)\n-+\n-*\n--\n-/\n/n\n/(\n/)\n/+\n/*\n/-\n//\nnnn\nnn(\nnn)\nnn+\nnn*\nnn-\nnn/\nn(n\nn((\nn()\nn(+\nn(*\nn(-\nn(/\nn)n\nn)(\nn))\nn)+\nn)*\nn)-\nn)/\nn+n\nn+(\nn+)\nn++\nn+*\nn+-\nn+/\nn*n\nn*(\nn*)\nn*+\nn**\nn*-\nn*/\nn-n\nn-(\nn-)\nn-+\nn-*\nn--\nn-/\nn/n\nn/(\nn/)\nn/+\nn/*\nn/-\nn//\n(nn\n(n(\n(n)\n(n+\n(n*\n(n-\n(n/\n((n\n(((\n(()\n((+\n((*\n((-\n((/\n()n\n()(\n())\n()+\n()*\n()-\n()/\n(+n\n(+(\n(+)\n(++\n(+*\n(+-\n(+/\n(*n\n(*(\n(*)\n(*+\n(**\n(*-\n(*/\n(-n\n(-(\n(-)\n(-+\n(-*\n(--\n(-/\n(/n\n(/(\n(/)\n(/+\n(/*\n(/-\n(//\n)nn\n)n(\n)n)\n)n+\n)n*\n)n-\n)n/\n)(n\n)((\n)()\n)(+\n)(*\n)(-\n)(/\n))n\n))(\n)))\n))+\n))*\n))-\n))/\n)+n\n)+(\n)+)\n)++\n)+*\n)+-\n)+/\n)*n\n)*(\n)*)\n)*+\n)**\n)*-\n)*/\n)-n\n)-(\n)-)\n)-+\n)-*\n)--\n)-/\n)/n\n)/(\n)/)\n)/+\n)/*\n)/-\n)//\n+nn\n+n(\n+n)\n+n+\n+n*\n+n-\n+n/\n+(n\n+((\n+()\n+(+\n+(*\n+(-\n+(/\n+)n\n+)(\n+))\n+)+\n+)*\n+)-\n+)/\n++n\n++(\n++)\n+++\n++*\n++-\n++/\n+*n\n+*(\n+*)\n+*+\n+**\n+*-\n+*/\n+-n\n+-(\n+-)\n+-+\n+-*\n+--\n+-/\n+/n\n+/(\n+/)\n+/+\n+/*\n+/-\n+//\n*nn\n*n(\n*n)\n*n+\n*n*\n*n-\n*n/\n*(n\n*((\n*()\n*(+\n*(*\n*(-\n*(/\n*)n\n*)(\n*))\n*)+\n*)*\n*)-\n*)/\n*+n\n*+(\n*+)\n*++\n*+*\n*+-\n*+/\n**n\n**(\n**)\n**+\n***\n**-\n**/\n*-n\n*-(\n*-)\n*-+\n*-*\n*--\n*-/\n*/n\n*/(\n*/)\n*/+\n*/*\n*/-\n*//\n-nn\n-n(\n-n)\n-n+\n-n*\n-n-\n-n/\n-(n\n-((\n-()\n-(+\n-(*\n-(-\n-(/\n-)n\n-)(\n-))\n-)+\n-)*\n-)-\n-)/\n-+n\n-+(\n-+)\n-++\n-+*\n-+-\n-+/\n-*n\n-*(\n-*)\n-*+\n-**\n-*-\n-*/\n--n\n--(\n--)\n--+\n--*\n---\n--/\n-/n\n-/(\n-/)\n-/+\n-/*\n-/-\n-//\n/nn\n/n(\n/n)\n/n+\n/n*\n/n-\n/n/\n/(n\n/((\n/()\n/(+\n/(*\n/(-\n/(/\n/)n\n/)(\n/))\n/)+\n/)*\n/)-\n/)/\n/+n\n/+(\n/+)\n/++\n/+*\n/+-\n/+/\n/*n\n/*(\n/*)\n/*+\n/**\n/*-\n/*/\n/-n\n/-(\n/-)\n/-+\n/-*\n/--\n/-/\n//n\n//(\n//)\n//+\n//*\n//-\n///\n"
        }
      ],
      "execution_count": 6
    },
    {
      "id": "42dfca85-5cbd-45ce-97e8-f9f99962c6b0",
      "cell_type": "markdown",
      "source": "## Questão 6",
      "metadata": {}
    },
    {
      "id": "91d0ba3f-b70f-42ff-97c6-299c768dabf4",
      "cell_type": "markdown",
      "source": "Dada a linguagem $ L_2 = \\{e, a, ab, abc\\} $, escreva uma função em Python que determine o reverso dessa linguagem, denotado por $ L_2^R $. O reverso de uma linguagem é um conjunto de cadeias onde cada cadeia é o inverso das cadeias originais de $ L_2 $.",
      "metadata": {}
    },
    {
      "id": "c3591e0f-7443-4087-9bfe-0f5e9f0ec514",
      "cell_type": "code",
      "source": "#Definindo a linguagem L2\nL2 = {'', 'a', 'ab', 'abc'}\n\n#Função para inverter string\ndef inverter_string(s):\n    lista_chars = list(s)\n    lista_chars.reverse()\n    return ''.join(lista_chars)\n\n#Função para calcular o reverso da linguagem\ndef reverso_linguagem(linguagem):\n    reverso = set()\n    for cadeia in linguagem:\n        reverso.add(inverter_string(cadeia))\n    return reverso\n\nL2_reverso = reverso_linguagem(L2)\n\n#Resultado\nprint(\"L2^R =\", L2_reverso)",
      "metadata": {
        "trusted": true
      },
      "outputs": [
        {
          "name": "stdout",
          "output_type": "stream",
          "text": "L2^R = {'', 'a', 'ba', 'cba'}\n"
        }
      ],
      "execution_count": 2
    },
    {
      "id": "2f3d2a8e-825e-480b-a613-20380b0eb82d",
      "cell_type": "markdown",
      "source": "## Questão 7",
      "metadata": {}
    },
    {
      "id": "ceed7fb4-dbb2-4e2e-8f39-de7c9267ad24",
      "cell_type": "markdown",
      "source": "Dada as linguagens abaixo disposta em um dicionário com o nome \"linguagens\", escreva uma função em Python que determine se cada uma delas tem a propriedade de prefixo próprio e sufixo próprio. Mostre os elementos que violam estas propriedades, se houver.",
      "metadata": {}
    },
    {
      "id": "8934d5bf-80ee-4920-9a7e-49dbb3cc78b1",
      "cell_type": "code",
      "source": "#Linguagens\nlinguagens = [\n    ('L1', {'prefix', 'pref', 'xfix'}),\n    ('L2', {'prefix', 'pref', 'fix'}),\n    ('L3', {'alpha', 'beta', 'gamma'}),\n    ('L4', {'bat', 'sat', 'at'})\n]\n\n#Função para verificar prefixos e sufixos próprios\ndef verificar_prefixo_sufixo(linguagens):\n    for nome, linguagem in linguagens:\n        print(f\"\\nAnalisando {nome}:\")\n        \n        prefixo_viola = set()\n        sufixo_viola = set()\n        \n        for palavra1 in linguagem:\n            for palavra2 in linguagem:\n                if palavra1 != palavra2:\n                    if palavra1 != '' and palavra2.startswith(palavra1):\n                        prefixo_viola.add((palavra1, palavra2))\n                    if palavra1 != '' and palavra2.endswith(palavra1):\n                        sufixo_viola.add((palavra1, palavra2))\n        \n        if not prefixo_viola:\n            print(\"Possui propriedade de prefixo próprio\")\n        else:\n            print(\"Viola propriedade de prefixo próprio:\")\n            for violacao in prefixo_viola:\n                print(f\"   '{violacao[0]}' é prefixo de '{violacao[1]}'\")\n        \n        if not sufixo_viola:\n            print(\"Possui propriedade de sufixo próprio\")\n        else:\n            print(\"Viola propriedade de sufixo próprio:\")\n            for violacao in sufixo_viola:\n                print(f\"   '{violacao[0]}' é sufixo de '{violacao[1]}'\")\n\nverificar_prefixo_sufixo(linguagens)\n",
      "metadata": {
        "trusted": true
      },
      "outputs": [
        {
          "name": "stdout",
          "output_type": "stream",
          "text": "\nAnalisando L1:\nViola propriedade de prefixo próprio:\n   'pref' é prefixo de 'prefix'\nPossui propriedade de sufixo próprio\n\nAnalisando L2:\nViola propriedade de prefixo próprio:\n   'pref' é prefixo de 'prefix'\nViola propriedade de sufixo próprio:\n   'fix' é sufixo de 'prefix'\n\nAnalisando L3:\nPossui propriedade de prefixo próprio\nPossui propriedade de sufixo próprio\n\nAnalisando L4:\nPossui propriedade de prefixo próprio\nViola propriedade de sufixo próprio:\n   'at' é sufixo de 'bat'\n   'at' é sufixo de 'sat'\n"
        }
      ],
      "execution_count": 2
    },
    {
      "id": "f627b6b5-6d1d-4e0a-9bcd-9fc95c91ddcc",
      "cell_type": "markdown",
      "source": "## Questão 8",
      "metadata": {}
    },
    {
      "id": "a50ff3f7-8419-4be4-a56b-713f53269fa7",
      "cell_type": "markdown",
      "source": " Implementar a operação de **quociente de linguagens**, definida formalmente como: $L _ { 1 } / L _ { 2 } = \\{ x \\mid \\exists y \\in L _ { 2 } , \\, x y \\in L _ { 1 } \\}$. Ou seja, o conjunto de todas as cadeias x tal que existe uma cadeia y ∈ L2 com x + y ∈ L1.",
      "metadata": {}
    },
    {
      "id": "6468febb-8aea-45ca-b42e-2b12b95d1330",
      "cell_type": "code",
      "source": "#Verifica se é sufixo\ndef e_sufixo(sufixo, palavra):\n    if palavra.endswith(sufixo):\n        return palavra[:-len(sufixo)] if sufixo else palavra\n    else:\n        return None\n\ndef quociente(L1, L2):\n    resultado = set()\n\n    for p in L1:\n        for y in L2:\n            x = e_sufixo(y, p)\n            if x is not None:\n                resultado.add(x)\n    \n    return resultado\n\nimport unittest\n\nclass TestQuocienteLinguagens(unittest.TestCase):\n\n    def test_is_suffix(self):\n        self.assertEqual(e_sufixo('fix', 'prefix'), 'pre')\n        self.assertEqual(e_sufixo('', 'abc'), 'abc')\n        self.assertIsNone(e_sufixo('abc', 'ab'))\n\n    def test_quociente(self):\n        L1 = {'prefix', 'preabc', 'abc', 'fix'}\n        L2 = {'fix', 'abc'}\n        esperado = {'pre', 'pre', '', ''}\n        self.assertEqual(quociente(L1, L2), {'pre', ''})\n\nif __name__ == '__main__':\n    unittest.main()",
      "metadata": {
        "trusted": true
      },
      "outputs": [
        {
          "name": "stderr",
          "output_type": "stream",
          "text": "..\n----------------------------------------------------------------------\nRan 2 tests in 0.002s\n\nOK\n/lib/python3.12/site-packages/IPython/core/interactiveshell.py:3585: UserWarning: To exit: use 'exit', 'quit', or Ctrl-D.\n  warn(\"To exit: use 'exit', 'quit', or Ctrl-D.\", stacklevel=1)\n"
        },
        {
          "ename": "<class 'SystemExit'>",
          "evalue": "0",
          "traceback": [
            "An exception has occurred, use %tb to see the full traceback.\n",
            "\u001b[0;31mSystemExit\u001b[0m\u001b[0;31m:\u001b[0m 0\n"
          ],
          "output_type": "error"
        }
      ],
      "execution_count": 7
    },
    {
      "id": "c31b7884-e3e0-472f-97f3-d49a42f0a51c",
      "cell_type": "code",
      "source": "",
      "metadata": {
        "trusted": true
      },
      "outputs": [],
      "execution_count": null
    }
  ]
}